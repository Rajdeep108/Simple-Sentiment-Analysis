{
 "cells": [
  {
   "cell_type": "code",
   "execution_count": 1,
   "id": "eadb6fa4-6236-4b04-bd1f-2279aee9fde1",
   "metadata": {},
   "outputs": [],
   "source": [
    "import pandas as pd"
   ]
  },
  {
   "cell_type": "code",
   "execution_count": 2,
   "id": "15c785dd-7f4d-4297-a5e8-46781e0b5099",
   "metadata": {},
   "outputs": [],
   "source": [
    "df = pd.read_csv(r'C:\\Users\\asus\\Desktop\\pro1\\4th project sentiment analysis\\food reviews dataset\\Reviews.csv')"
   ]
  },
  {
   "cell_type": "code",
   "execution_count": 3,
   "id": "3abc4e74-0c56-44fc-834d-8d52de33c52a",
   "metadata": {},
   "outputs": [
    {
     "data": {
      "text/plain": [
       "(568454, 10)"
      ]
     },
     "execution_count": 3,
     "metadata": {},
     "output_type": "execute_result"
    }
   ],
   "source": [
    "df.shape"
   ]
  },
  {
   "cell_type": "code",
   "execution_count": 4,
   "id": "ead24870-8d92-4dfc-90c2-9bae909f2708",
   "metadata": {},
   "outputs": [],
   "source": [
    "df = df.head(200)"
   ]
  },
  {
   "cell_type": "code",
   "execution_count": 5,
   "id": "4c473eae-1248-4ced-add0-45050b3a49f8",
   "metadata": {},
   "outputs": [
    {
     "data": {
      "text/html": [
       "<div>\n",
       "<style scoped>\n",
       "    .dataframe tbody tr th:only-of-type {\n",
       "        vertical-align: middle;\n",
       "    }\n",
       "\n",
       "    .dataframe tbody tr th {\n",
       "        vertical-align: top;\n",
       "    }\n",
       "\n",
       "    .dataframe thead th {\n",
       "        text-align: right;\n",
       "    }\n",
       "</style>\n",
       "<table border=\"1\" class=\"dataframe\">\n",
       "  <thead>\n",
       "    <tr style=\"text-align: right;\">\n",
       "      <th></th>\n",
       "      <th>Id</th>\n",
       "      <th>ProductId</th>\n",
       "      <th>UserId</th>\n",
       "      <th>ProfileName</th>\n",
       "      <th>HelpfulnessNumerator</th>\n",
       "      <th>HelpfulnessDenominator</th>\n",
       "      <th>Score</th>\n",
       "      <th>Time</th>\n",
       "      <th>Summary</th>\n",
       "      <th>Text</th>\n",
       "    </tr>\n",
       "  </thead>\n",
       "  <tbody>\n",
       "    <tr>\n",
       "      <th>0</th>\n",
       "      <td>1</td>\n",
       "      <td>B001E4KFG0</td>\n",
       "      <td>A3SGXH7AUHU8GW</td>\n",
       "      <td>delmartian</td>\n",
       "      <td>1</td>\n",
       "      <td>1</td>\n",
       "      <td>5</td>\n",
       "      <td>1303862400</td>\n",
       "      <td>Good Quality Dog Food</td>\n",
       "      <td>I have bought several of the Vitality canned d...</td>\n",
       "    </tr>\n",
       "    <tr>\n",
       "      <th>1</th>\n",
       "      <td>2</td>\n",
       "      <td>B00813GRG4</td>\n",
       "      <td>A1D87F6ZCVE5NK</td>\n",
       "      <td>dll pa</td>\n",
       "      <td>0</td>\n",
       "      <td>0</td>\n",
       "      <td>1</td>\n",
       "      <td>1346976000</td>\n",
       "      <td>Not as Advertised</td>\n",
       "      <td>Product arrived labeled as Jumbo Salted Peanut...</td>\n",
       "    </tr>\n",
       "    <tr>\n",
       "      <th>2</th>\n",
       "      <td>3</td>\n",
       "      <td>B000LQOCH0</td>\n",
       "      <td>ABXLMWJIXXAIN</td>\n",
       "      <td>Natalia Corres \"Natalia Corres\"</td>\n",
       "      <td>1</td>\n",
       "      <td>1</td>\n",
       "      <td>4</td>\n",
       "      <td>1219017600</td>\n",
       "      <td>\"Delight\" says it all</td>\n",
       "      <td>This is a confection that has been around a fe...</td>\n",
       "    </tr>\n",
       "    <tr>\n",
       "      <th>3</th>\n",
       "      <td>4</td>\n",
       "      <td>B000UA0QIQ</td>\n",
       "      <td>A395BORC6FGVXV</td>\n",
       "      <td>Karl</td>\n",
       "      <td>3</td>\n",
       "      <td>3</td>\n",
       "      <td>2</td>\n",
       "      <td>1307923200</td>\n",
       "      <td>Cough Medicine</td>\n",
       "      <td>If you are looking for the secret ingredient i...</td>\n",
       "    </tr>\n",
       "    <tr>\n",
       "      <th>4</th>\n",
       "      <td>5</td>\n",
       "      <td>B006K2ZZ7K</td>\n",
       "      <td>A1UQRSCLF8GW1T</td>\n",
       "      <td>Michael D. Bigham \"M. Wassir\"</td>\n",
       "      <td>0</td>\n",
       "      <td>0</td>\n",
       "      <td>5</td>\n",
       "      <td>1350777600</td>\n",
       "      <td>Great taffy</td>\n",
       "      <td>Great taffy at a great price.  There was a wid...</td>\n",
       "    </tr>\n",
       "  </tbody>\n",
       "</table>\n",
       "</div>"
      ],
      "text/plain": [
       "   Id   ProductId          UserId                      ProfileName  \\\n",
       "0   1  B001E4KFG0  A3SGXH7AUHU8GW                       delmartian   \n",
       "1   2  B00813GRG4  A1D87F6ZCVE5NK                           dll pa   \n",
       "2   3  B000LQOCH0   ABXLMWJIXXAIN  Natalia Corres \"Natalia Corres\"   \n",
       "3   4  B000UA0QIQ  A395BORC6FGVXV                             Karl   \n",
       "4   5  B006K2ZZ7K  A1UQRSCLF8GW1T    Michael D. Bigham \"M. Wassir\"   \n",
       "\n",
       "   HelpfulnessNumerator  HelpfulnessDenominator  Score        Time  \\\n",
       "0                     1                       1      5  1303862400   \n",
       "1                     0                       0      1  1346976000   \n",
       "2                     1                       1      4  1219017600   \n",
       "3                     3                       3      2  1307923200   \n",
       "4                     0                       0      5  1350777600   \n",
       "\n",
       "                 Summary                                               Text  \n",
       "0  Good Quality Dog Food  I have bought several of the Vitality canned d...  \n",
       "1      Not as Advertised  Product arrived labeled as Jumbo Salted Peanut...  \n",
       "2  \"Delight\" says it all  This is a confection that has been around a fe...  \n",
       "3         Cough Medicine  If you are looking for the secret ingredient i...  \n",
       "4            Great taffy  Great taffy at a great price.  There was a wid...  "
      ]
     },
     "execution_count": 5,
     "metadata": {},
     "output_type": "execute_result"
    }
   ],
   "source": [
    "df.head()"
   ]
  },
  {
   "cell_type": "code",
   "execution_count": null,
   "id": "72769cfc-baad-4cba-a489-eca4184197bc",
   "metadata": {},
   "outputs": [],
   "source": [
    "df['Score'].value_counts().sort_index().plot(kind='bar',title ='Reviews',figsize=(10,5))"
   ]
  },
  {
   "cell_type": "code",
   "execution_count": null,
   "id": "8fae78e4-097f-4a8f-b4f9-e80e618ea927",
   "metadata": {},
   "outputs": [],
   "source": [
    "example = df['Text'][50] \n",
    "print(example)"
   ]
  },
  {
   "cell_type": "code",
   "execution_count": null,
   "id": "d76f4e1a-7891-4ab3-96bb-cd34194115ea",
   "metadata": {},
   "outputs": [],
   "source": [
    "import nltk\n",
    "from nltk.tokenize import word_tokenize\n",
    "from nltk import pos_tag"
   ]
  },
  {
   "cell_type": "code",
   "execution_count": null,
   "id": "a64c7b3e-052c-4273-ae18-3a7721ffa4d9",
   "metadata": {},
   "outputs": [],
   "source": [
    "tokens = word_tokenize(example)\n",
    "tokens[:10]"
   ]
  },
  {
   "cell_type": "code",
   "execution_count": null,
   "id": "1950018c-17aa-4679-9b04-3511365ba7fd",
   "metadata": {},
   "outputs": [],
   "source": [
    "tagged = pos_tag(tokens)"
   ]
  },
  {
   "cell_type": "code",
   "execution_count": null,
   "id": "a248758b-9b69-4bf2-81cc-485da38c80b5",
   "metadata": {},
   "outputs": [],
   "source": [
    "tagged[:10]"
   ]
  },
  {
   "cell_type": "code",
   "execution_count": null,
   "id": "fd42c292-325c-4cc7-ae6c-429b392e70fa",
   "metadata": {},
   "outputs": [],
   "source": [
    "chunked = nltk.chunk.ne_chunk(tagged)"
   ]
  },
  {
   "cell_type": "code",
   "execution_count": null,
   "id": "28ffa29f-c620-4ad1-93b3-1de69e5cae63",
   "metadata": {},
   "outputs": [],
   "source": [
    "print(chunked)"
   ]
  },
  {
   "cell_type": "code",
   "execution_count": null,
   "id": "ccedeb45-6038-42c9-ad34-4da2c1caca65",
   "metadata": {},
   "outputs": [],
   "source": [
    "from nltk.sentiment import SentimentIntensityAnalyzer\n",
    "\n",
    "import tqdm"
   ]
  },
  {
   "cell_type": "code",
   "execution_count": null,
   "id": "b5281d67-217f-437b-8578-4bf1fdf4d3b3",
   "metadata": {},
   "outputs": [],
   "source": [
    "sio = SentimentIntensityAnalyzer()"
   ]
  },
  {
   "cell_type": "code",
   "execution_count": null,
   "id": "eaf740ed-9015-4826-9e1b-ea3cbdb05d52",
   "metadata": {},
   "outputs": [],
   "source": [
    "sio.polarity_scores(text='This is insane')"
   ]
  },
  {
   "cell_type": "code",
   "execution_count": null,
   "id": "1d8cf4d3-8719-4151-865e-475902152f31",
   "metadata": {},
   "outputs": [],
   "source": [
    "sio.polarity_scores(example)"
   ]
  },
  {
   "cell_type": "code",
   "execution_count": null,
   "id": "da72ab33-1b07-4471-a250-630278c15a1a",
   "metadata": {},
   "outputs": [],
   "source": [
    "results = {}\n",
    "for index,rows in tqdm.tqdm(df.iterrows(),total = len(df)):\n",
    "    results[rows['Id']] = sio.polarity_scores(rows['Text'])"
   ]
  },
  {
   "cell_type": "code",
   "execution_count": null,
   "id": "2b855fa4-2165-4cf9-b733-1c4901481e48",
   "metadata": {},
   "outputs": [],
   "source": [
    "vaders = pd.DataFrame(results).T"
   ]
  },
  {
   "cell_type": "code",
   "execution_count": null,
   "id": "c863c188-677c-4ef6-a0e0-fe229e36ad83",
   "metadata": {},
   "outputs": [],
   "source": [
    "vaders.head()"
   ]
  },
  {
   "cell_type": "code",
   "execution_count": null,
   "id": "b05b227d-f50e-4b2a-be55-a6eeea084ca8",
   "metadata": {},
   "outputs": [],
   "source": [
    "vaders = vaders.reset_index().rename(columns = {'index':'Id'})\n",
    "vaders"
   ]
  },
  {
   "cell_type": "code",
   "execution_count": null,
   "id": "208bca1d-0ca0-4e8e-960a-e6d6c6ef60de",
   "metadata": {},
   "outputs": [],
   "source": [
    "vaders = vaders.merge(df)"
   ]
  },
  {
   "cell_type": "code",
   "execution_count": null,
   "id": "80fb455d-66ee-414b-9525-bdf22626f71f",
   "metadata": {},
   "outputs": [],
   "source": [
    "vaders.head()"
   ]
  },
  {
   "cell_type": "code",
   "execution_count": null,
   "id": "5d36d57e-8bb1-4fa8-9327-dfd636e8475f",
   "metadata": {},
   "outputs": [],
   "source": [
    "import seaborn as sns\n",
    "import matplotlib.pyplot as plt"
   ]
  },
  {
   "cell_type": "code",
   "execution_count": null,
   "id": "12694e2b-2c79-4d72-bbc0-95a9ee119502",
   "metadata": {},
   "outputs": [],
   "source": [
    "sns.barplot(vaders, x = 'Score', y = 'compound')"
   ]
  },
  {
   "cell_type": "code",
   "execution_count": null,
   "id": "78c37d83-4b8e-4d68-946a-9423d6d8a104",
   "metadata": {},
   "outputs": [],
   "source": [
    "fig,axis = plt.subplots(1,3,figsize = (15,5))\n",
    "sns.barplot(vaders, x = 'Score', y = 'pos',ax=axis[0])\n",
    "sns.barplot(vaders, x = 'Score', y = 'neg',ax=axis[1])\n",
    "sns.barplot(vaders, x = 'Score', y = 'neu',ax=axis[2])\n",
    "axis[0].set_title('Positive')\n",
    "axis[1].set_title('Negative')\n",
    "axis[2].set_title('Neutral')\n",
    "plt.tight_layout()"
   ]
  },
  {
   "cell_type": "code",
   "execution_count": null,
   "id": "5926218b-b41f-45bc-b620-1603e55e31d4",
   "metadata": {},
   "outputs": [],
   "source": [
    "from transformers import AutoModel, AutoTokenizer,AutoModelForSequenceClassification"
   ]
  },
  {
   "cell_type": "code",
   "execution_count": null,
   "id": "b67c11cc-fa92-418d-98b4-6dad19f2388b",
   "metadata": {},
   "outputs": [],
   "source": [
    "model = AutoModelForSequenceClassification.from_pretrained(\"cardiffnlp/twitter-roberta-base-sentiment\")"
   ]
  },
  {
   "cell_type": "code",
   "execution_count": null,
   "id": "d9e0415d-020e-402e-87e3-0d00c15de88c",
   "metadata": {},
   "outputs": [],
   "source": [
    "tokeniser = AutoTokenizer.from_pretrained(\"cardiffnlp/twitter-roberta-base-sentiment\")"
   ]
  },
  {
   "cell_type": "code",
   "execution_count": null,
   "id": "9206cd6b-d772-4197-8614-f890481b0d18",
   "metadata": {
    "scrolled": true
   },
   "outputs": [],
   "source": [
    "def polarity(text):\n",
    "    # Encode the text with truncation and padding to the max length\n",
    "    encoded = tokeniser(text, return_tensors='pt')\n",
    "  # Disable gradient calculation for inference\n",
    "    outputs = model(**encoded)\n",
    "    return outputs\n",
    "    \n",
    "results = {}\n",
    "i=0\n",
    "for index,rows in tqdm.tqdm(df.iterrows(),total = len(df)):\n",
    "    try:\n",
    "        results[rows.Id] = polarity(rows['Text'])\n",
    "    except RuntimeError:\n",
    "        print('Id broke here')\n",
    "\n",
    "print(results)"
   ]
  },
  {
   "cell_type": "code",
   "execution_count": null,
   "id": "bc2ffd46-2c20-41e8-bb37-6afb2b441eaf",
   "metadata": {},
   "outputs": [],
   "source": [
    "df[df.Id == 7]['Summary']"
   ]
  },
  {
   "cell_type": "code",
   "execution_count": 6,
   "id": "b739d505-ea3a-413f-94fc-cd72df26c5ba",
   "metadata": {},
   "outputs": [],
   "source": [
    "# Practice"
   ]
  },
  {
   "cell_type": "code",
   "execution_count": 7,
   "id": "3ce6a932-e143-4f78-b732-4d4ebd06a934",
   "metadata": {},
   "outputs": [],
   "source": [
    "from wordcloud import WordCloud"
   ]
  },
  {
   "cell_type": "code",
   "execution_count": 8,
   "id": "9b4da7db-14ca-4444-ac54-0942e1f1ae95",
   "metadata": {},
   "outputs": [],
   "source": [
    "check_em_words = WordCloud().generate(text='vomit pain vomit ass knee vomit ass drunk high urine hot cold fart gore fart')"
   ]
  },
  {
   "cell_type": "code",
   "execution_count": 9,
   "id": "c7455bad-d8e4-47b1-a0b9-c05bfb715f8d",
   "metadata": {},
   "outputs": [
    {
     "data": {
      "text/plain": [
       "<matplotlib.image.AxesImage at 0x1db57af2db0>"
      ]
     },
     "execution_count": 9,
     "metadata": {},
     "output_type": "execute_result"
    },
    {
     "data": {
      "image/png": "[encoded data removed]",
      "text/plain": [
       "<Figure size 640x480 with 1 Axes>"
      ]
     },
     "metadata": {},
     "output_type": "display_data"
    }
   ],
   "source": [
    "import matplotlib.pyplot as plt\n",
    "\n",
    "plt.imshow(check_em_words)"
   ]
  },
  {
   "cell_type": "code",
   "execution_count": 10,
   "id": "5701b827-d5cd-47ab-af5c-9e003665227f",
   "metadata": {},
   "outputs": [],
   "source": [
    "from nltk.sentiment import SentimentIntensityAnalyzer\n",
    "from nltk.stem import PorterStemmer\n",
    "from nltk.tokenize import word_tokenize\n",
    "from nltk.corpus import stopwords"
   ]
  },
  {
   "cell_type": "code",
   "execution_count": 11,
   "id": "ec2e08d3-943d-4fe4-94b1-8f6b4594db21",
   "metadata": {},
   "outputs": [
    {
     "data": {
      "image/png": "[encoded data removed]",
      "text/plain": [
       "<Figure size 640x480 with 1 Axes>"
      ]
     },
     "metadata": {},
     "output_type": "display_data"
    }
   ],
   "source": [
    "plt.bar(df['Summary'][:5],df['Score'][:5],color =['green','red','orange','yellow','pink'])\n",
    "plt.xticks(rotation=45)\n",
    "plt.tight_layout()\n",
    "plt.show()"
   ]
  },
  {
   "cell_type": "code",
   "execution_count": 12,
   "id": "62dfd4b6-3075-4768-bae2-4bc0dbfb32c0",
   "metadata": {},
   "outputs": [],
   "source": [
    "def preprocess(sentence):\n",
    "    fin=[]\n",
    "    win=[]\n",
    "    stm = PorterStemmer()\n",
    "    fin = stm.stem(sentence)\n",
    "    fin = word_tokenize(fin)\n",
    "    for i in fin:\n",
    "        if i not in stopwords.words():\n",
    "            win.append(i)\n",
    "    return win"
   ]
  },
  {
   "cell_type": "code",
   "execution_count": 13,
   "id": "fcbd1cda-5d4c-4995-af22-d8b3fb529a14",
   "metadata": {},
   "outputs": [],
   "source": [
    "senti= {}\n",
    "sia = SentimentIntensityAnalyzer()\n",
    "for index,row in df.iterrows():\n",
    "    senti[index] = (preprocess(row['Text']))"
   ]
  },
  {
   "cell_type": "code",
   "execution_count": 44,
   "id": "9607f9c1-7ac2-45f3-8cf0-b4fa0e0b18ae",
   "metadata": {},
   "outputs": [],
   "source": [
    "sentiments = {}\n",
    "denti = {}\n",
    "for index,rows in senti.items():\n",
    "    senti[index] = \" \".join(rows)\n",
    "\n",
    "for index,rows in senti.items():\n",
    "    sentiments[index] = sia.polarity_scores(rows)\n",
    "\n",
    "for index,rows in df.iterrows():\n",
    "    denti[index] = sia.polarity_scores(rows['Text'])\n"
   ]
  },
  {
   "cell_type": "code",
   "execution_count": 45,
   "id": "04c25100-c099-41af-ad6f-e8a672ea6857",
   "metadata": {},
   "outputs": [],
   "source": [
    "denti = pd.DataFrame(denti).T"
   ]
  },
  {
   "cell_type": "code",
   "execution_count": 46,
   "id": "a3d86ebd-b712-4797-b3f7-520728c2995a",
   "metadata": {},
   "outputs": [],
   "source": [
    "denti = denti.reset_index()"
   ]
  },
  {
   "cell_type": "code",
   "execution_count": 47,
   "id": "af9170eb-5913-4174-b672-8a8f3fae948e",
   "metadata": {},
   "outputs": [],
   "source": [
    "denti = denti.rename(columns={'index':'Id'})"
   ]
  },
  {
   "cell_type": "code",
   "execution_count": 48,
   "id": "b4d35c83-7614-48f2-8105-01260b4c553b",
   "metadata": {},
   "outputs": [],
   "source": [
    "denti.Id = denti.Id + 1"
   ]
  },
  {
   "cell_type": "code",
   "execution_count": 49,
   "id": "f9d2fcc2-1ed1-4b62-a8fa-fcdf1a73737c",
   "metadata": {},
   "outputs": [
    {
     "data": {
      "text/html": [
       "<div>\n",
       "<style scoped>\n",
       "    .dataframe tbody tr th:only-of-type {\n",
       "        vertical-align: middle;\n",
       "    }\n",
       "\n",
       "    .dataframe tbody tr th {\n",
       "        vertical-align: top;\n",
       "    }\n",
       "\n",
       "    .dataframe thead th {\n",
       "        text-align: right;\n",
       "    }\n",
       "</style>\n",
       "<table border=\"1\" class=\"dataframe\">\n",
       "  <thead>\n",
       "    <tr style=\"text-align: right;\">\n",
       "      <th></th>\n",
       "      <th>Id</th>\n",
       "      <th>neg</th>\n",
       "      <th>neu</th>\n",
       "      <th>pos</th>\n",
       "      <th>compound</th>\n",
       "    </tr>\n",
       "  </thead>\n",
       "  <tbody>\n",
       "    <tr>\n",
       "      <th>0</th>\n",
       "      <td>1</td>\n",
       "      <td>0.000</td>\n",
       "      <td>0.695</td>\n",
       "      <td>0.305</td>\n",
       "      <td>0.9441</td>\n",
       "    </tr>\n",
       "    <tr>\n",
       "      <th>1</th>\n",
       "      <td>2</td>\n",
       "      <td>0.138</td>\n",
       "      <td>0.862</td>\n",
       "      <td>0.000</td>\n",
       "      <td>-0.5664</td>\n",
       "    </tr>\n",
       "    <tr>\n",
       "      <th>2</th>\n",
       "      <td>3</td>\n",
       "      <td>0.091</td>\n",
       "      <td>0.754</td>\n",
       "      <td>0.155</td>\n",
       "      <td>0.8265</td>\n",
       "    </tr>\n",
       "    <tr>\n",
       "      <th>3</th>\n",
       "      <td>4</td>\n",
       "      <td>0.000</td>\n",
       "      <td>1.000</td>\n",
       "      <td>0.000</td>\n",
       "      <td>0.0000</td>\n",
       "    </tr>\n",
       "    <tr>\n",
       "      <th>4</th>\n",
       "      <td>5</td>\n",
       "      <td>0.000</td>\n",
       "      <td>0.552</td>\n",
       "      <td>0.448</td>\n",
       "      <td>0.9468</td>\n",
       "    </tr>\n",
       "    <tr>\n",
       "      <th>...</th>\n",
       "      <td>...</td>\n",
       "      <td>...</td>\n",
       "      <td>...</td>\n",
       "      <td>...</td>\n",
       "      <td>...</td>\n",
       "    </tr>\n",
       "    <tr>\n",
       "      <th>195</th>\n",
       "      <td>196</td>\n",
       "      <td>0.000</td>\n",
       "      <td>0.761</td>\n",
       "      <td>0.239</td>\n",
       "      <td>0.9538</td>\n",
       "    </tr>\n",
       "    <tr>\n",
       "      <th>196</th>\n",
       "      <td>197</td>\n",
       "      <td>0.000</td>\n",
       "      <td>0.917</td>\n",
       "      <td>0.083</td>\n",
       "      <td>0.4738</td>\n",
       "    </tr>\n",
       "    <tr>\n",
       "      <th>197</th>\n",
       "      <td>198</td>\n",
       "      <td>0.000</td>\n",
       "      <td>0.904</td>\n",
       "      <td>0.096</td>\n",
       "      <td>0.4153</td>\n",
       "    </tr>\n",
       "    <tr>\n",
       "      <th>198</th>\n",
       "      <td>199</td>\n",
       "      <td>0.000</td>\n",
       "      <td>0.701</td>\n",
       "      <td>0.299</td>\n",
       "      <td>0.8268</td>\n",
       "    </tr>\n",
       "    <tr>\n",
       "      <th>199</th>\n",
       "      <td>200</td>\n",
       "      <td>0.000</td>\n",
       "      <td>0.811</td>\n",
       "      <td>0.189</td>\n",
       "      <td>0.7178</td>\n",
       "    </tr>\n",
       "  </tbody>\n",
       "</table>\n",
       "<p>200 rows × 5 columns</p>\n",
       "</div>"
      ],
      "text/plain": [
       "      Id    neg    neu    pos  compound\n",
       "0      1  0.000  0.695  0.305    0.9441\n",
       "1      2  0.138  0.862  0.000   -0.5664\n",
       "2      3  0.091  0.754  0.155    0.8265\n",
       "3      4  0.000  1.000  0.000    0.0000\n",
       "4      5  0.000  0.552  0.448    0.9468\n",
       "..   ...    ...    ...    ...       ...\n",
       "195  196  0.000  0.761  0.239    0.9538\n",
       "196  197  0.000  0.917  0.083    0.4738\n",
       "197  198  0.000  0.904  0.096    0.4153\n",
       "198  199  0.000  0.701  0.299    0.8268\n",
       "199  200  0.000  0.811  0.189    0.7178\n",
       "\n",
       "[200 rows x 5 columns]"
      ]
     },
     "execution_count": 49,
     "metadata": {},
     "output_type": "execute_result"
    }
   ],
   "source": [
    "denti"
   ]
  },
  {
   "cell_type": "code",
   "execution_count": null,
   "id": "d538ef26-b0bf-4504-ac37-1678b7f84d07",
   "metadata": {},
   "outputs": [],
   "source": []
  },
  {
   "cell_type": "code",
   "execution_count": null,
   "id": "15f6ce1d-5426-46f4-aef5-8b91513a2ebb",
   "metadata": {},
   "outputs": [],
   "source": []
  }
 ],
 "metadata": {
  "kernelspec": {
   "display_name": "Python 3 (ipykernel)",
   "language": "python",
   "name": "python3"
  },
  "language_info": {
   "codemirror_mode": {
    "name": "ipython",
    "version": 3
   },
   "file_extension": ".py",
   "mimetype": "text/x-python",
   "name": "python",
   "nbconvert_exporter": "python",
   "pygments_lexer": "ipython3",
   "version": "3.12.3"
  }
 },
 "nbformat": 4,
 "nbformat_minor": 5
}
